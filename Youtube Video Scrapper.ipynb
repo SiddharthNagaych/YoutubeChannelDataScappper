{
 "cells": [
  {
   "cell_type": "code",
   "execution_count": 60,
   "id": "165c6254",
   "metadata": {},
   "outputs": [],
   "source": [
    "import requests\n",
    "from bs4 import BeautifulSoup\n",
    "import chromedriver_binary\n",
    "import pandas as pd"
   ]
  },
  {
   "cell_type": "code",
   "execution_count": 2,
   "id": "96ff9627",
   "metadata": {},
   "outputs": [],
   "source": [
    "from selenium import webdriver\n",
    "browser=webdriver.Chrome()\n",
    "browser.get('https://www.youtube.com/@GeeksforGeeksVideos/videos')"
   ]
  },
  {
   "cell_type": "code",
   "execution_count": 51,
   "id": "e2410ec8",
   "metadata": {},
   "outputs": [],
   "source": [
    "soup=BeautifulSoup(browser.page_source,'html.parser')"
   ]
  },
  {
   "cell_type": "code",
   "execution_count": 52,
   "id": "0eee969c",
   "metadata": {},
   "outputs": [],
   "source": [
    "sp=soup.find_all('ytd-rich-item-renderer')"
   ]
  },
  {
   "cell_type": "code",
   "execution_count": 79,
   "id": "f1cc3555",
   "metadata": {},
   "outputs": [],
   "source": [
    "views=sp[3].find_all('span',class_='inline-metadata-item style-scope ytd-video-meta-block')[0].text"
   ]
  },
  {
   "cell_type": "code",
   "execution_count": 81,
   "id": "3a007d79",
   "metadata": {},
   "outputs": [
    {
     "data": {
      "text/plain": [
       "'🏆 GeeksforGeeks Hack-A-Thon: World-cup-Wizard Edition 🌟'"
      ]
     },
     "execution_count": 81,
     "metadata": {},
     "output_type": "execute_result"
    }
   ],
   "source": [
    "title"
   ]
  },
  {
   "cell_type": "code",
   "execution_count": 82,
   "id": "ad664890",
   "metadata": {},
   "outputs": [],
   "source": [
    "date_time=sp[3].find_all('span',class_='inline-metadata-item style-scope ytd-video-meta-block')[1].text"
   ]
  },
  {
   "cell_type": "code",
   "execution_count": 83,
   "id": "aca61ceb",
   "metadata": {},
   "outputs": [
    {
     "data": {
      "text/plain": [
       "'4 days ago'"
      ]
     },
     "execution_count": 83,
     "metadata": {},
     "output_type": "execute_result"
    }
   ],
   "source": [
    "date_time"
   ]
  },
  {
   "cell_type": "code",
   "execution_count": 43,
   "id": "da3ff658",
   "metadata": {},
   "outputs": [
    {
     "data": {
      "text/plain": [
       "60"
      ]
     },
     "execution_count": 43,
     "metadata": {},
     "output_type": "execute_result"
    }
   ],
   "source": [
    "len(sp)"
   ]
  },
  {
   "cell_type": "code",
   "execution_count": 53,
   "id": "411e4788",
   "metadata": {},
   "outputs": [],
   "source": [
    "data=[]\n",
    "\n",
    "i=0\n",
    "\n",
    "while i<len(soup.find_all('ytd-rich-item-renderer')):\n",
    "    try:\n",
    "        title     = sp[i].find('a',class_='yt-simple-endpoint focus-on-expand style-scope ytd-rich-grid-media').text\n",
    "    except:\n",
    "        title     =   None\n",
    "    try:\n",
    "        video_link= sp[i].find('a',class_='yt-simple-endpoint focus-on-expand style-scope ytd-rich-grid-media').get('href')\n",
    "    except:\n",
    "        video_link=   None\n",
    "    try:\n",
    "        views     = sp[i].find_all('span',class_='inline-metadata-item style-scope ytd-video-meta-block')[0].text\n",
    "    except:\n",
    "        views     =   None\n",
    "    try:\n",
    "        date_time = sp[i].find_all('span',class_='inline-metadata-item style-scope ytd-video-meta-block')[1].text\n",
    "    except:\n",
    "        date_time =   None\n",
    "    try:\n",
    "        img_link  = sp[i].find('img').get('src')\n",
    "    except:\n",
    "        img_link  =   None\n",
    "    \n",
    "    data.append([title,video_link,views,date_time,img_link])\n",
    "    i+=1\n",
    "        \n",
    "        \n",
    "        "
   ]
  },
  {
   "cell_type": "code",
   "execution_count": 56,
   "id": "850b33d1",
   "metadata": {},
   "outputs": [],
   "source": [
    "img_link  = sp[1710].find('img').get('src')"
   ]
  },
  {
   "cell_type": "code",
   "execution_count": 58,
   "id": "84a786c4",
   "metadata": {},
   "outputs": [
    {
     "name": "stdout",
     "output_type": "stream",
     "text": [
      "https://i.ytimg.com/vi/xtfj4-r_Ahs/hqdefault.jpg?sqp=-oaymwEcCNACELwBSFXyq4qpAw4IARUAAIhCGAFwAcABBg==&rs=AOn4CLCrXsj8cPnpQMXwlyth3z05aRp7PA\n"
     ]
    }
   ],
   "source": [
    "print(img_link)"
   ]
  },
  {
   "cell_type": "code",
   "execution_count": 55,
   "id": "419ec901",
   "metadata": {},
   "outputs": [
    {
     "data": {
      "text/plain": [
       "1711"
      ]
     },
     "execution_count": 55,
     "metadata": {},
     "output_type": "execute_result"
    }
   ],
   "source": [
    "len(data)"
   ]
  },
  {
   "cell_type": "code",
   "execution_count": 63,
   "id": "264b55d1",
   "metadata": {},
   "outputs": [],
   "source": [
    "df=pd.DataFrame(data,columns=['title','video_link','views','date_time','img_link'])"
   ]
  },
  {
   "cell_type": "code",
   "execution_count": 64,
   "id": "b5c5fc81",
   "metadata": {},
   "outputs": [
    {
     "data": {
      "text/plain": [
       "title         0\n",
       "video_link    0\n",
       "views         0\n",
       "date_time     0\n",
       "img_link      0\n",
       "dtype: int64"
      ]
     },
     "execution_count": 64,
     "metadata": {},
     "output_type": "execute_result"
    }
   ],
   "source": [
    "df.isnull().sum()"
   ]
  },
  {
   "cell_type": "code",
   "execution_count": 65,
   "id": "03c134d3",
   "metadata": {},
   "outputs": [],
   "source": [
    "df.to_csv('Gfgdata.csv',index=False)"
   ]
  },
  {
   "cell_type": "code",
   "execution_count": null,
   "id": "d5d380f4",
   "metadata": {},
   "outputs": [],
   "source": []
  }
 ],
 "metadata": {
  "kernelspec": {
   "display_name": "Python 3 (ipykernel)",
   "language": "python",
   "name": "python3"
  },
  "language_info": {
   "codemirror_mode": {
    "name": "ipython",
    "version": 3
   },
   "file_extension": ".py",
   "mimetype": "text/x-python",
   "name": "python",
   "nbconvert_exporter": "python",
   "pygments_lexer": "ipython3",
   "version": "3.10.9"
  }
 },
 "nbformat": 4,
 "nbformat_minor": 5
}
